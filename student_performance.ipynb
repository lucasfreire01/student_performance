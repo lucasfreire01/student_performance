{
  "nbformat": 4,
  "nbformat_minor": 0,
  "metadata": {
    "colab": {
      "provenance": [],
      "mount_file_id": "1Jidi_BzlrayN597V5ZIs-4MKoz2dwBhM",
      "authorship_tag": "ABX9TyMq0B42itR/lpPQ5+atSgoh",
      "include_colab_link": true
    },
    "kernelspec": {
      "name": "python3",
      "display_name": "Python 3"
    },
    "language_info": {
      "name": "python"
    }
  },
  "cells": [
    {
      "cell_type": "markdown",
      "metadata": {
        "id": "view-in-github",
        "colab_type": "text"
      },
      "source": [
        "<a href=\"https://colab.research.google.com/github/lucasfreire01/student_performance/blob/main/student_performance.ipynb\" target=\"_parent\"><img src=\"https://colab.research.google.com/assets/colab-badge.svg\" alt=\"Open In Colab\"/></a>"
      ]
    },
    {
      "cell_type": "markdown",
      "source": [
        "# RESUME\n",
        "I used the XGBosst as an upgrade of Random Florest/ Decision Tree. The goal of the project is to predict the score in which session will have, based on the session passed, the classification of students is split into 3 levels: level 3, level 12, and level 22 in the final the score obtained was 0.66"
      ],
      "metadata": {
        "id": "TLp4lMv6f1Mh"
      }
    },
    {
      "cell_type": "code",
      "source": [
        "# Importing library"
      ],
      "metadata": {
        "id": "-gCbXfI_e7FP"
      },
      "execution_count": 1,
      "outputs": []
    },
    {
      "cell_type": "code",
      "source": [
        "!pip install xgboost"
      ],
      "metadata": {
        "colab": {
          "base_uri": "https://localhost:8080/"
        },
        "id": "-uAm_JYSRXCg",
        "outputId": "f143760f-dec0-4708-c51a-1c484a09e04f"
      },
      "execution_count": 2,
      "outputs": [
        {
          "output_type": "stream",
          "name": "stdout",
          "text": [
            "Looking in indexes: https://pypi.org/simple, https://us-python.pkg.dev/colab-wheels/public/simple/\n",
            "Requirement already satisfied: xgboost in /usr/local/lib/python3.8/dist-packages (0.90)\n",
            "Requirement already satisfied: scipy in /usr/local/lib/python3.8/dist-packages (from xgboost) (1.7.3)\n",
            "Requirement already satisfied: numpy in /usr/local/lib/python3.8/dist-packages (from xgboost) (1.21.6)\n"
          ]
        }
      ]
    },
    {
      "cell_type": "code",
      "execution_count": 3,
      "metadata": {
        "id": "PneTHgQlEym3"
      },
      "outputs": [],
      "source": [
        "import pandas as pd\n",
        "import numpy as np\n",
        "from xgboost import XGBClassifier\n",
        "from sklearn.metrics import f1_score\n",
        "from sklearn.model_selection import KFold, GroupKFold"
      ]
    },
    {
      "cell_type": "code",
      "source": [
        "# Loading Databases"
      ],
      "metadata": {
        "id": "uAHKIS73fgXc"
      },
      "execution_count": 4,
      "outputs": []
    },
    {
      "cell_type": "code",
      "source": [
        "train = pd.read_csv('/content/drive/MyDrive/train.csv')"
      ],
      "metadata": {
        "id": "2-3fauFCInoh"
      },
      "execution_count": 5,
      "outputs": []
    },
    {
      "cell_type": "code",
      "source": [
        "test = pd.read_csv('/content/test.csv')"
      ],
      "metadata": {
        "id": "dZcDSiqmKawl"
      },
      "execution_count": 6,
      "outputs": []
    },
    {
      "cell_type": "code",
      "source": [
        "targets = pd.read_csv('/content/train_labels.csv')\n",
        "targets['session'] = targets.session_id.apply(lambda x: int(x.split('_')[0]))\n",
        "targets['q'] = targets.session_id.apply(lambda x: int(x.split('_')[-1][1:]))"
      ],
      "metadata": {
        "id": "Q2KfsBqIKi-Z"
      },
      "execution_count": 7,
      "outputs": []
    },
    {
      "cell_type": "code",
      "source": [
        "targets"
      ],
      "metadata": {
        "id": "EKOpaS4tLjCX",
        "colab": {
          "base_uri": "https://localhost:8080/",
          "height": 424
        },
        "outputId": "8e5141d9-0120-49fa-a359-91ba06e877ad"
      },
      "execution_count": 8,
      "outputs": [
        {
          "output_type": "execute_result",
          "data": {
            "text/plain": [
              "                   session_id  correct            session   q\n",
              "0        20090312431273200_q1        1  20090312431273200   1\n",
              "1        20090312433251036_q1        0  20090312433251036   1\n",
              "2        20090314121766812_q1        1  20090314121766812   1\n",
              "3        20090314363702160_q1        1  20090314363702160   1\n",
              "4        20090314441803444_q1        1  20090314441803444   1\n",
              "...                       ...      ...                ...  ..\n",
              "212017  22100215342220508_q18        1  22100215342220508  18\n",
              "212018  22100215460321130_q18        1  22100215460321130  18\n",
              "212019  22100217104993650_q18        1  22100217104993650  18\n",
              "212020  22100219442786200_q18        1  22100219442786200  18\n",
              "212021  22100221145014656_q18        1  22100221145014656  18\n",
              "\n",
              "[212022 rows x 4 columns]"
            ],
            "text/html": [
              "\n",
              "  <div id=\"df-62be9fbc-890f-4018-af2e-04702ea65e39\">\n",
              "    <div class=\"colab-df-container\">\n",
              "      <div>\n",
              "<style scoped>\n",
              "    .dataframe tbody tr th:only-of-type {\n",
              "        vertical-align: middle;\n",
              "    }\n",
              "\n",
              "    .dataframe tbody tr th {\n",
              "        vertical-align: top;\n",
              "    }\n",
              "\n",
              "    .dataframe thead th {\n",
              "        text-align: right;\n",
              "    }\n",
              "</style>\n",
              "<table border=\"1\" class=\"dataframe\">\n",
              "  <thead>\n",
              "    <tr style=\"text-align: right;\">\n",
              "      <th></th>\n",
              "      <th>session_id</th>\n",
              "      <th>correct</th>\n",
              "      <th>session</th>\n",
              "      <th>q</th>\n",
              "    </tr>\n",
              "  </thead>\n",
              "  <tbody>\n",
              "    <tr>\n",
              "      <th>0</th>\n",
              "      <td>20090312431273200_q1</td>\n",
              "      <td>1</td>\n",
              "      <td>20090312431273200</td>\n",
              "      <td>1</td>\n",
              "    </tr>\n",
              "    <tr>\n",
              "      <th>1</th>\n",
              "      <td>20090312433251036_q1</td>\n",
              "      <td>0</td>\n",
              "      <td>20090312433251036</td>\n",
              "      <td>1</td>\n",
              "    </tr>\n",
              "    <tr>\n",
              "      <th>2</th>\n",
              "      <td>20090314121766812_q1</td>\n",
              "      <td>1</td>\n",
              "      <td>20090314121766812</td>\n",
              "      <td>1</td>\n",
              "    </tr>\n",
              "    <tr>\n",
              "      <th>3</th>\n",
              "      <td>20090314363702160_q1</td>\n",
              "      <td>1</td>\n",
              "      <td>20090314363702160</td>\n",
              "      <td>1</td>\n",
              "    </tr>\n",
              "    <tr>\n",
              "      <th>4</th>\n",
              "      <td>20090314441803444_q1</td>\n",
              "      <td>1</td>\n",
              "      <td>20090314441803444</td>\n",
              "      <td>1</td>\n",
              "    </tr>\n",
              "    <tr>\n",
              "      <th>...</th>\n",
              "      <td>...</td>\n",
              "      <td>...</td>\n",
              "      <td>...</td>\n",
              "      <td>...</td>\n",
              "    </tr>\n",
              "    <tr>\n",
              "      <th>212017</th>\n",
              "      <td>22100215342220508_q18</td>\n",
              "      <td>1</td>\n",
              "      <td>22100215342220508</td>\n",
              "      <td>18</td>\n",
              "    </tr>\n",
              "    <tr>\n",
              "      <th>212018</th>\n",
              "      <td>22100215460321130_q18</td>\n",
              "      <td>1</td>\n",
              "      <td>22100215460321130</td>\n",
              "      <td>18</td>\n",
              "    </tr>\n",
              "    <tr>\n",
              "      <th>212019</th>\n",
              "      <td>22100217104993650_q18</td>\n",
              "      <td>1</td>\n",
              "      <td>22100217104993650</td>\n",
              "      <td>18</td>\n",
              "    </tr>\n",
              "    <tr>\n",
              "      <th>212020</th>\n",
              "      <td>22100219442786200_q18</td>\n",
              "      <td>1</td>\n",
              "      <td>22100219442786200</td>\n",
              "      <td>18</td>\n",
              "    </tr>\n",
              "    <tr>\n",
              "      <th>212021</th>\n",
              "      <td>22100221145014656_q18</td>\n",
              "      <td>1</td>\n",
              "      <td>22100221145014656</td>\n",
              "      <td>18</td>\n",
              "    </tr>\n",
              "  </tbody>\n",
              "</table>\n",
              "<p>212022 rows × 4 columns</p>\n",
              "</div>\n",
              "      <button class=\"colab-df-convert\" onclick=\"convertToInteractive('df-62be9fbc-890f-4018-af2e-04702ea65e39')\"\n",
              "              title=\"Convert this dataframe to an interactive table.\"\n",
              "              style=\"display:none;\">\n",
              "        \n",
              "  <svg xmlns=\"http://www.w3.org/2000/svg\" height=\"24px\"viewBox=\"0 0 24 24\"\n",
              "       width=\"24px\">\n",
              "    <path d=\"M0 0h24v24H0V0z\" fill=\"none\"/>\n",
              "    <path d=\"M18.56 5.44l.94 2.06.94-2.06 2.06-.94-2.06-.94-.94-2.06-.94 2.06-2.06.94zm-11 1L8.5 8.5l.94-2.06 2.06-.94-2.06-.94L8.5 2.5l-.94 2.06-2.06.94zm10 10l.94 2.06.94-2.06 2.06-.94-2.06-.94-.94-2.06-.94 2.06-2.06.94z\"/><path d=\"M17.41 7.96l-1.37-1.37c-.4-.4-.92-.59-1.43-.59-.52 0-1.04.2-1.43.59L10.3 9.45l-7.72 7.72c-.78.78-.78 2.05 0 2.83L4 21.41c.39.39.9.59 1.41.59.51 0 1.02-.2 1.41-.59l7.78-7.78 2.81-2.81c.8-.78.8-2.07 0-2.86zM5.41 20L4 18.59l7.72-7.72 1.47 1.35L5.41 20z\"/>\n",
              "  </svg>\n",
              "      </button>\n",
              "      \n",
              "  <style>\n",
              "    .colab-df-container {\n",
              "      display:flex;\n",
              "      flex-wrap:wrap;\n",
              "      gap: 12px;\n",
              "    }\n",
              "\n",
              "    .colab-df-convert {\n",
              "      background-color: #E8F0FE;\n",
              "      border: none;\n",
              "      border-radius: 50%;\n",
              "      cursor: pointer;\n",
              "      display: none;\n",
              "      fill: #1967D2;\n",
              "      height: 32px;\n",
              "      padding: 0 0 0 0;\n",
              "      width: 32px;\n",
              "    }\n",
              "\n",
              "    .colab-df-convert:hover {\n",
              "      background-color: #E2EBFA;\n",
              "      box-shadow: 0px 1px 2px rgba(60, 64, 67, 0.3), 0px 1px 3px 1px rgba(60, 64, 67, 0.15);\n",
              "      fill: #174EA6;\n",
              "    }\n",
              "\n",
              "    [theme=dark] .colab-df-convert {\n",
              "      background-color: #3B4455;\n",
              "      fill: #D2E3FC;\n",
              "    }\n",
              "\n",
              "    [theme=dark] .colab-df-convert:hover {\n",
              "      background-color: #434B5C;\n",
              "      box-shadow: 0px 1px 3px 1px rgba(0, 0, 0, 0.15);\n",
              "      filter: drop-shadow(0px 1px 2px rgba(0, 0, 0, 0.3));\n",
              "      fill: #FFFFFF;\n",
              "    }\n",
              "  </style>\n",
              "\n",
              "      <script>\n",
              "        const buttonEl =\n",
              "          document.querySelector('#df-62be9fbc-890f-4018-af2e-04702ea65e39 button.colab-df-convert');\n",
              "        buttonEl.style.display =\n",
              "          google.colab.kernel.accessAllowed ? 'block' : 'none';\n",
              "\n",
              "        async function convertToInteractive(key) {\n",
              "          const element = document.querySelector('#df-62be9fbc-890f-4018-af2e-04702ea65e39');\n",
              "          const dataTable =\n",
              "            await google.colab.kernel.invokeFunction('convertToInteractive',\n",
              "                                                     [key], {});\n",
              "          if (!dataTable) return;\n",
              "\n",
              "          const docLinkHtml = 'Like what you see? Visit the ' +\n",
              "            '<a target=\"_blank\" href=https://colab.research.google.com/notebooks/data_table.ipynb>data table notebook</a>'\n",
              "            + ' to learn more about interactive tables.';\n",
              "          element.innerHTML = '';\n",
              "          dataTable['output_type'] = 'display_data';\n",
              "          await google.colab.output.renderOutput(dataTable, element);\n",
              "          const docLink = document.createElement('div');\n",
              "          docLink.innerHTML = docLinkHtml;\n",
              "          element.appendChild(docLink);\n",
              "        }\n",
              "      </script>\n",
              "    </div>\n",
              "  </div>\n",
              "  "
            ]
          },
          "metadata": {},
          "execution_count": 8
        }
      ]
    },
    {
      "cell_type": "code",
      "source": [
        "# Creating features to improve algorithm effectiveness by adding a new EVENTS class\n",
        "# This idea is from: https://www.kaggle.com/code/kimtaehun/lightgbm-baseline-with-aggregated-log-data"
      ],
      "metadata": {
        "id": "uolsMk_MmyLO"
      },
      "execution_count": 9,
      "outputs": []
    },
    {
      "cell_type": "code",
      "source": [
        "CATS = ['event_name','text', 'fqid', 'room_fqid',]\n",
        "NUMS = ['elapsed_time', 'level','page','room_coor_x', 'room_coor_y', \n",
        "        'screen_coor_x', 'screen_coor_y', 'hover_duration']\n",
        "EVENTS = ['navigate_click','person_click','cutscene_click','object_click',\n",
        "          'map_hover','notification_click','map_click','observation_click',\n",
        "          'checkpoint']"
      ],
      "metadata": {
        "id": "0Q-xOVOhMULD"
      },
      "execution_count": 10,
      "outputs": []
    },
    {
      "cell_type": "code",
      "source": [
        "def feature_engineer(train):\n",
        "  dfs = []\n",
        "  for c in CATS:\n",
        "    tmp = train.groupby(['session_id','level_group'])[c].agg('nunique')\n",
        "    tmp.name = tmp.name + '_nunique'\n",
        "    dfs.append(tmp)\n",
        "  \n",
        "  for c in NUMS:\n",
        "    tmp = train.groupby(['session_id','level_group'])[c].agg('mean')\n",
        "    tmp.name = tmp.name + '_mean'\n",
        "    dfs.append(tmp)\n",
        "  for c in NUMS:\n",
        "    tmp = train.groupby(['session_id','level_group'])[c].agg('std')\n",
        "    tmp.name = tmp.name + '_std'\n",
        "    dfs.append(tmp)\n",
        "\n",
        "  for c in EVENTS: \n",
        "    train[c] = (train.event_name == c).astype('int8')\n",
        "\n",
        "  for c in EVENTS + ['elapsed_time']:\n",
        "    tmp = train.groupby(['session_id','level_group'])[c].agg('sum')\n",
        "    tmp.name = tmp.name + '_sum'\n",
        "    dfs.append(tmp)\n",
        "  train = train.drop(EVENTS,axis=1)\n",
        "  \n",
        "  df = pd.concat(dfs,axis=1)\n",
        "  df = df.fillna(-1)\n",
        "  df = df.reset_index()\n",
        "  df = df.set_index('session_id')\n",
        "  return df"
      ],
      "metadata": {
        "id": "rhQoqG6FRnw4"
      },
      "execution_count": 11,
      "outputs": []
    },
    {
      "cell_type": "code",
      "source": [
        "df = feature_engineer(train)"
      ],
      "metadata": {
        "id": "udzlkQROTBoB"
      },
      "execution_count": 12,
      "outputs": []
    },
    {
      "cell_type": "code",
      "source": [
        "print(df.shape)\n",
        "df.head()"
      ],
      "metadata": {
        "id": "ArCJxCA_Wd0D",
        "colab": {
          "base_uri": "https://localhost:8080/",
          "height": 348
        },
        "outputId": "7cb3c360-dde2-437f-b5a2-89c7df3bdb4b"
      },
      "execution_count": 13,
      "outputs": [
        {
          "output_type": "stream",
          "name": "stdout",
          "text": [
            "(35337, 31)\n"
          ]
        },
        {
          "output_type": "execute_result",
          "data": {
            "text/plain": [
              "                  level_group  event_name_nunique  text_nunique  fqid_nunique  \\\n",
              "session_id                                                                      \n",
              "20090312431273200         0-4                  10            56            30   \n",
              "20090312431273200       13-22                  10           168            49   \n",
              "20090312431273200        5-12                  10           124            39   \n",
              "20090312433251036         0-4                  11            49            22   \n",
              "20090312433251036       13-22                  11           183            73   \n",
              "\n",
              "                   room_fqid_nunique  elapsed_time_mean  level_mean  \\\n",
              "session_id                                                            \n",
              "20090312431273200                  7       8.579356e+04    1.945455   \n",
              "20090312431273200                 12       1.040601e+06   17.402381   \n",
              "20090312431273200                 11       3.572052e+05    8.054054   \n",
              "20090312433251036                  6       9.763342e+04    1.870504   \n",
              "20090312433251036                 16       2.498852e+06   17.762529   \n",
              "\n",
              "                   page_mean  room_coor_x_mean  room_coor_y_mean  ...  \\\n",
              "session_id                                                        ...   \n",
              "20090312431273200       -1.0          7.701275        -71.413749  ...   \n",
              "20090312431273200       -1.0       -130.347170       -162.004310  ...   \n",
              "20090312431273200       -1.0         14.306062        -57.269322  ...   \n",
              "20090312433251036        0.0        -84.045960        -53.671082  ...   \n",
              "20090312433251036        5.1        -30.762282       -142.861892  ...   \n",
              "\n",
              "                   navigate_click_sum  person_click_sum  cutscene_click_sum  \\\n",
              "session_id                                                                    \n",
              "20090312431273200                81.0              22.0                28.0   \n",
              "20090312431273200               170.0             123.0                60.0   \n",
              "20090312431273200               103.0             104.0                12.0   \n",
              "20090312433251036                49.0              18.0                36.0   \n",
              "20090312433251036               637.0             145.0                65.0   \n",
              "\n",
              "                   object_click_sum  map_hover_sum  notification_click_sum  \\\n",
              "session_id                                                                   \n",
              "20090312431273200              11.0            4.0                       8   \n",
              "20090312431273200              20.0           14.0                      10   \n",
              "20090312431273200              28.0            9.0                       9   \n",
              "20090312433251036              15.0            3.0                       5   \n",
              "20090312433251036              83.0          186.0                      14   \n",
              "\n",
              "                   map_click_sum  observation_click_sum  checkpoint_sum  \\\n",
              "session_id                                                                \n",
              "20090312431273200            2.0                      4               1   \n",
              "20090312431273200            6.0                      3               1   \n",
              "20090312431273200            8.0                      1               1   \n",
              "20090312433251036            3.0                      2               1   \n",
              "20090312433251036           45.0                      5               1   \n",
              "\n",
              "                   elapsed_time_sum  \n",
              "session_id                           \n",
              "20090312431273200          14155937  \n",
              "20090312431273200         437052322  \n",
              "20090312431273200         105732736  \n",
              "20090312433251036          13571045  \n",
              "20090312433251036        3241011333  \n",
              "\n",
              "[5 rows x 31 columns]"
            ],
            "text/html": [
              "\n",
              "  <div id=\"df-1df615a9-6091-4eb7-be01-bb70bc5054ad\">\n",
              "    <div class=\"colab-df-container\">\n",
              "      <div>\n",
              "<style scoped>\n",
              "    .dataframe tbody tr th:only-of-type {\n",
              "        vertical-align: middle;\n",
              "    }\n",
              "\n",
              "    .dataframe tbody tr th {\n",
              "        vertical-align: top;\n",
              "    }\n",
              "\n",
              "    .dataframe thead th {\n",
              "        text-align: right;\n",
              "    }\n",
              "</style>\n",
              "<table border=\"1\" class=\"dataframe\">\n",
              "  <thead>\n",
              "    <tr style=\"text-align: right;\">\n",
              "      <th></th>\n",
              "      <th>level_group</th>\n",
              "      <th>event_name_nunique</th>\n",
              "      <th>text_nunique</th>\n",
              "      <th>fqid_nunique</th>\n",
              "      <th>room_fqid_nunique</th>\n",
              "      <th>elapsed_time_mean</th>\n",
              "      <th>level_mean</th>\n",
              "      <th>page_mean</th>\n",
              "      <th>room_coor_x_mean</th>\n",
              "      <th>room_coor_y_mean</th>\n",
              "      <th>...</th>\n",
              "      <th>navigate_click_sum</th>\n",
              "      <th>person_click_sum</th>\n",
              "      <th>cutscene_click_sum</th>\n",
              "      <th>object_click_sum</th>\n",
              "      <th>map_hover_sum</th>\n",
              "      <th>notification_click_sum</th>\n",
              "      <th>map_click_sum</th>\n",
              "      <th>observation_click_sum</th>\n",
              "      <th>checkpoint_sum</th>\n",
              "      <th>elapsed_time_sum</th>\n",
              "    </tr>\n",
              "    <tr>\n",
              "      <th>session_id</th>\n",
              "      <th></th>\n",
              "      <th></th>\n",
              "      <th></th>\n",
              "      <th></th>\n",
              "      <th></th>\n",
              "      <th></th>\n",
              "      <th></th>\n",
              "      <th></th>\n",
              "      <th></th>\n",
              "      <th></th>\n",
              "      <th></th>\n",
              "      <th></th>\n",
              "      <th></th>\n",
              "      <th></th>\n",
              "      <th></th>\n",
              "      <th></th>\n",
              "      <th></th>\n",
              "      <th></th>\n",
              "      <th></th>\n",
              "      <th></th>\n",
              "      <th></th>\n",
              "    </tr>\n",
              "  </thead>\n",
              "  <tbody>\n",
              "    <tr>\n",
              "      <th>20090312431273200</th>\n",
              "      <td>0-4</td>\n",
              "      <td>10</td>\n",
              "      <td>56</td>\n",
              "      <td>30</td>\n",
              "      <td>7</td>\n",
              "      <td>8.579356e+04</td>\n",
              "      <td>1.945455</td>\n",
              "      <td>-1.0</td>\n",
              "      <td>7.701275</td>\n",
              "      <td>-71.413749</td>\n",
              "      <td>...</td>\n",
              "      <td>81.0</td>\n",
              "      <td>22.0</td>\n",
              "      <td>28.0</td>\n",
              "      <td>11.0</td>\n",
              "      <td>4.0</td>\n",
              "      <td>8</td>\n",
              "      <td>2.0</td>\n",
              "      <td>4</td>\n",
              "      <td>1</td>\n",
              "      <td>14155937</td>\n",
              "    </tr>\n",
              "    <tr>\n",
              "      <th>20090312431273200</th>\n",
              "      <td>13-22</td>\n",
              "      <td>10</td>\n",
              "      <td>168</td>\n",
              "      <td>49</td>\n",
              "      <td>12</td>\n",
              "      <td>1.040601e+06</td>\n",
              "      <td>17.402381</td>\n",
              "      <td>-1.0</td>\n",
              "      <td>-130.347170</td>\n",
              "      <td>-162.004310</td>\n",
              "      <td>...</td>\n",
              "      <td>170.0</td>\n",
              "      <td>123.0</td>\n",
              "      <td>60.0</td>\n",
              "      <td>20.0</td>\n",
              "      <td>14.0</td>\n",
              "      <td>10</td>\n",
              "      <td>6.0</td>\n",
              "      <td>3</td>\n",
              "      <td>1</td>\n",
              "      <td>437052322</td>\n",
              "    </tr>\n",
              "    <tr>\n",
              "      <th>20090312431273200</th>\n",
              "      <td>5-12</td>\n",
              "      <td>10</td>\n",
              "      <td>124</td>\n",
              "      <td>39</td>\n",
              "      <td>11</td>\n",
              "      <td>3.572052e+05</td>\n",
              "      <td>8.054054</td>\n",
              "      <td>-1.0</td>\n",
              "      <td>14.306062</td>\n",
              "      <td>-57.269322</td>\n",
              "      <td>...</td>\n",
              "      <td>103.0</td>\n",
              "      <td>104.0</td>\n",
              "      <td>12.0</td>\n",
              "      <td>28.0</td>\n",
              "      <td>9.0</td>\n",
              "      <td>9</td>\n",
              "      <td>8.0</td>\n",
              "      <td>1</td>\n",
              "      <td>1</td>\n",
              "      <td>105732736</td>\n",
              "    </tr>\n",
              "    <tr>\n",
              "      <th>20090312433251036</th>\n",
              "      <td>0-4</td>\n",
              "      <td>11</td>\n",
              "      <td>49</td>\n",
              "      <td>22</td>\n",
              "      <td>6</td>\n",
              "      <td>9.763342e+04</td>\n",
              "      <td>1.870504</td>\n",
              "      <td>0.0</td>\n",
              "      <td>-84.045960</td>\n",
              "      <td>-53.671082</td>\n",
              "      <td>...</td>\n",
              "      <td>49.0</td>\n",
              "      <td>18.0</td>\n",
              "      <td>36.0</td>\n",
              "      <td>15.0</td>\n",
              "      <td>3.0</td>\n",
              "      <td>5</td>\n",
              "      <td>3.0</td>\n",
              "      <td>2</td>\n",
              "      <td>1</td>\n",
              "      <td>13571045</td>\n",
              "    </tr>\n",
              "    <tr>\n",
              "      <th>20090312433251036</th>\n",
              "      <td>13-22</td>\n",
              "      <td>11</td>\n",
              "      <td>183</td>\n",
              "      <td>73</td>\n",
              "      <td>16</td>\n",
              "      <td>2.498852e+06</td>\n",
              "      <td>17.762529</td>\n",
              "      <td>5.1</td>\n",
              "      <td>-30.762282</td>\n",
              "      <td>-142.861892</td>\n",
              "      <td>...</td>\n",
              "      <td>637.0</td>\n",
              "      <td>145.0</td>\n",
              "      <td>65.0</td>\n",
              "      <td>83.0</td>\n",
              "      <td>186.0</td>\n",
              "      <td>14</td>\n",
              "      <td>45.0</td>\n",
              "      <td>5</td>\n",
              "      <td>1</td>\n",
              "      <td>3241011333</td>\n",
              "    </tr>\n",
              "  </tbody>\n",
              "</table>\n",
              "<p>5 rows × 31 columns</p>\n",
              "</div>\n",
              "      <button class=\"colab-df-convert\" onclick=\"convertToInteractive('df-1df615a9-6091-4eb7-be01-bb70bc5054ad')\"\n",
              "              title=\"Convert this dataframe to an interactive table.\"\n",
              "              style=\"display:none;\">\n",
              "        \n",
              "  <svg xmlns=\"http://www.w3.org/2000/svg\" height=\"24px\"viewBox=\"0 0 24 24\"\n",
              "       width=\"24px\">\n",
              "    <path d=\"M0 0h24v24H0V0z\" fill=\"none\"/>\n",
              "    <path d=\"M18.56 5.44l.94 2.06.94-2.06 2.06-.94-2.06-.94-.94-2.06-.94 2.06-2.06.94zm-11 1L8.5 8.5l.94-2.06 2.06-.94-2.06-.94L8.5 2.5l-.94 2.06-2.06.94zm10 10l.94 2.06.94-2.06 2.06-.94-2.06-.94-.94-2.06-.94 2.06-2.06.94z\"/><path d=\"M17.41 7.96l-1.37-1.37c-.4-.4-.92-.59-1.43-.59-.52 0-1.04.2-1.43.59L10.3 9.45l-7.72 7.72c-.78.78-.78 2.05 0 2.83L4 21.41c.39.39.9.59 1.41.59.51 0 1.02-.2 1.41-.59l7.78-7.78 2.81-2.81c.8-.78.8-2.07 0-2.86zM5.41 20L4 18.59l7.72-7.72 1.47 1.35L5.41 20z\"/>\n",
              "  </svg>\n",
              "      </button>\n",
              "      \n",
              "  <style>\n",
              "    .colab-df-container {\n",
              "      display:flex;\n",
              "      flex-wrap:wrap;\n",
              "      gap: 12px;\n",
              "    }\n",
              "\n",
              "    .colab-df-convert {\n",
              "      background-color: #E8F0FE;\n",
              "      border: none;\n",
              "      border-radius: 50%;\n",
              "      cursor: pointer;\n",
              "      display: none;\n",
              "      fill: #1967D2;\n",
              "      height: 32px;\n",
              "      padding: 0 0 0 0;\n",
              "      width: 32px;\n",
              "    }\n",
              "\n",
              "    .colab-df-convert:hover {\n",
              "      background-color: #E2EBFA;\n",
              "      box-shadow: 0px 1px 2px rgba(60, 64, 67, 0.3), 0px 1px 3px 1px rgba(60, 64, 67, 0.15);\n",
              "      fill: #174EA6;\n",
              "    }\n",
              "\n",
              "    [theme=dark] .colab-df-convert {\n",
              "      background-color: #3B4455;\n",
              "      fill: #D2E3FC;\n",
              "    }\n",
              "\n",
              "    [theme=dark] .colab-df-convert:hover {\n",
              "      background-color: #434B5C;\n",
              "      box-shadow: 0px 1px 3px 1px rgba(0, 0, 0, 0.15);\n",
              "      filter: drop-shadow(0px 1px 2px rgba(0, 0, 0, 0.3));\n",
              "      fill: #FFFFFF;\n",
              "    }\n",
              "  </style>\n",
              "\n",
              "      <script>\n",
              "        const buttonEl =\n",
              "          document.querySelector('#df-1df615a9-6091-4eb7-be01-bb70bc5054ad button.colab-df-convert');\n",
              "        buttonEl.style.display =\n",
              "          google.colab.kernel.accessAllowed ? 'block' : 'none';\n",
              "\n",
              "        async function convertToInteractive(key) {\n",
              "          const element = document.querySelector('#df-1df615a9-6091-4eb7-be01-bb70bc5054ad');\n",
              "          const dataTable =\n",
              "            await google.colab.kernel.invokeFunction('convertToInteractive',\n",
              "                                                     [key], {});\n",
              "          if (!dataTable) return;\n",
              "\n",
              "          const docLinkHtml = 'Like what you see? Visit the ' +\n",
              "            '<a target=\"_blank\" href=https://colab.research.google.com/notebooks/data_table.ipynb>data table notebook</a>'\n",
              "            + ' to learn more about interactive tables.';\n",
              "          element.innerHTML = '';\n",
              "          dataTable['output_type'] = 'display_data';\n",
              "          await google.colab.output.renderOutput(dataTable, element);\n",
              "          const docLink = document.createElement('div');\n",
              "          docLink.innerHTML = docLinkHtml;\n",
              "          element.appendChild(docLink);\n",
              "        }\n",
              "      </script>\n",
              "    </div>\n",
              "  </div>\n",
              "  "
            ]
          },
          "metadata": {},
          "execution_count": 13
        }
      ]
    },
    {
      "cell_type": "code",
      "source": [
        "# The model is training for each one of the 18 questions. With that, we have these insides: level_group = 0-4 for training the model of questions 1-3\n",
        "#                                                                                           level_group = 5-12 for training the model of questions 4-13\n",
        "#                                                                                           level_group = 13-22 for training the model of questions 14-18\n",
        "\n",
        "# This insides was based of test inference I just imported the parameters to train model"
      ],
      "metadata": {
        "id": "n1NMmbtAHf1Q"
      },
      "execution_count": 14,
      "outputs": []
    },
    {
      "cell_type": "code",
      "source": [
        "FEATURES = [c for c in df.columns if  c != 'level_group']\n",
        "print('We will try with', len(FEATURES), 'features')\n",
        "ALL_USERS = df.index.unique()\n",
        "print ('We will try with', len(ALL_USERS), 'users')"
      ],
      "metadata": {
        "id": "lPrxFZokYyV9",
        "colab": {
          "base_uri": "https://localhost:8080/"
        },
        "outputId": "08701ba2-6329-44aa-b531-e0d815774a03"
      },
      "execution_count": 15,
      "outputs": [
        {
          "output_type": "stream",
          "name": "stdout",
          "text": [
            "We will try with 30 features\n",
            "We will try with 11779 users\n"
          ]
        }
      ]
    },
    {
      "cell_type": "code",
      "source": [
        "# starting use GroupKfold with 5 group Kfold\n",
        "gkf = GroupKFold(n_splits=5)\n",
        "oof = pd.DataFrame(data=np.zeros((len(ALL_USERS),18)), index=ALL_USERS)\n",
        "models = {}\n",
        "\n",
        "for i, (train_index, test_index) in enumerate(gkf.split(X=df, groups=df.index)):\n",
        "    print('#'*25)\n",
        "    print('### Fold',i+1)\n",
        "    print('#'*25)\n",
        "    \n",
        "    xgb_params = {\n",
        "    'objective' : 'binary:logistic',\n",
        "    'eval_metric':'logloss',\n",
        "    'learning_rate': 0.05,\n",
        "    'max_depth': 4,\n",
        "    'n_estimators': 1000,\n",
        "    'early_stopping_rounds': 50,\n",
        "    'tree_method':'hist',\n",
        "    'subsample':0.8,\n",
        "    'colsample_bytree': 0.4,\n",
        "    'use_label_encoder' : False}\n",
        "    \n",
        "    for t in range(1,19):\n",
        "        if t<=3: grp = '0-4'\n",
        "        elif t<=13: grp = '5-12'\n",
        "        elif t<=22: grp = '13-22'\n",
        "        train_x = df.iloc[train_index]\n",
        "        train_x = train_x.loc[train_x.level_group == grp]\n",
        "        train_users = train_x.index.values\n",
        "        train_y = targets.loc[targets.q==t].set_index('session').loc[train_users]\n",
        "        \n",
        "        valid_x = df.iloc[test_index]\n",
        "        valid_x = valid_x.loc[valid_x.level_group == grp]\n",
        "        valid_users = valid_x.index.values\n",
        "        valid_y = targets.loc[targets.q==t].set_index('session').loc[valid_users]\n",
        "               \n",
        "        clf =  XGBClassifier(**xgb_params)\n",
        "        clf.fit(train_x[FEATURES].astype('float32'), train_y['correct'],\n",
        "                eval_set=[ (valid_x[FEATURES].astype('float32'), valid_y['correct']) ],\n",
        "                verbose=0)\n",
        "        \n",
        "        models[f'{grp}_{t}'] = clf\n",
        "        oof.loc[valid_users, t-1] = clf.predict_proba(valid_x[FEATURES].astype('float32'))[:,1]\n",
        "        \n",
        "    print()"
      ],
      "metadata": {
        "id": "oFSWoNLZjKFj",
        "colab": {
          "base_uri": "https://localhost:8080/"
        },
        "outputId": "386140cf-e847-4abf-d316-59982d8aeace"
      },
      "execution_count": 16,
      "outputs": [
        {
          "output_type": "stream",
          "name": "stdout",
          "text": [
            "#########################\n",
            "### Fold 1\n",
            "#########################\n",
            "\n",
            "#########################\n",
            "### Fold 2\n",
            "#########################\n",
            "\n",
            "#########################\n",
            "### Fold 3\n",
            "#########################\n",
            "\n",
            "#########################\n",
            "### Fold 4\n",
            "#########################\n",
            "\n",
            "#########################\n",
            "### Fold 5\n",
            "#########################\n",
            "\n"
          ]
        }
      ]
    },
    {
      "cell_type": "code",
      "source": [
        "# I needed to corvert the predicts in a matrix binary with 1s and 0s, the metric use was F1_score that doing a mean between predicts and recall.\n",
        "# gonna found the ideal limit for p when p > threshold = 1, when p < 1 maximize the F1_score"
      ],
      "metadata": {
        "id": "KTUA5tGj9TCi"
      },
      "execution_count": 17,
      "outputs": []
    },
    {
      "cell_type": "code",
      "source": [
        "# Put the true labels with 18 columns\n",
        "true = oof.copy()\n",
        "for k in range(18):\n",
        "    tmp = targets.loc[targets.q == k+1].set_index('session').loc[ALL_USERS]\n",
        "    true[k] = tmp.correct.values"
      ],
      "metadata": {
        "id": "UHg1c15Vk6b3"
      },
      "execution_count": 18,
      "outputs": []
    },
    {
      "cell_type": "code",
      "source": [
        "# Find the better threshold to convert predicts in 1s and 0s\n",
        "score = []; thresholds = []\n",
        "best_score = 0; best_thresholds = 0\n",
        "for threshold in np.arange(0.4,0.81,0.01):\n",
        "    print(f'{threshold:.02f}, ',end=' ')\n",
        "    preds = (oof.values.reshape((-1))>threshold).astype('int')\n",
        "    m = f1_score(true.values.reshape((-1)), preds, average='macro')      \n",
        "    score.append(m)\n",
        "    thresholds.append(threshold)\n",
        "    if m>best_score:\n",
        "        best_score = m\n",
        "        best_thresholds = threshold"
      ],
      "metadata": {
        "id": "DjMa1Zjjas3e",
        "colab": {
          "base_uri": "https://localhost:8080/"
        },
        "outputId": "39ef94ff-45e1-4a75-abea-f299f0578706"
      },
      "execution_count": 19,
      "outputs": [
        {
          "output_type": "stream",
          "name": "stdout",
          "text": [
            "0.40,  0.41,  0.42,  0.43,  0.44,  0.45,  0.46,  0.47,  0.48,  0.49,  0.50,  0.51,  0.52,  0.53,  0.54,  0.55,  0.56,  0.57,  0.58,  0.59,  0.60,  0.61,  0.62,  0.63,  0.64,  0.65,  0.66,  0.67,  0.68,  0.69,  0.70,  0.71,  0.72,  0.73,  0.74,  0.75,  0.76,  0.77,  0.78,  0.79,  0.80,  "
          ]
        }
      ]
    },
    {
      "cell_type": "code",
      "source": [
        "# Plot a graphic threshold vs f1_score\n",
        "import matplotlib.pyplot as plt\n",
        "plt.figure(figsize=(20,5))\n",
        "plt.plot(thresholds,score,'-o',color='blue')\n",
        "plt.scatter([best_thresholds], [best_score], color='blue', s=300, alpha=1)\n",
        "plt.xlabel('Threshold',size=14)\n",
        "plt.ylabel('Validation F1 Score',size=14)\n",
        "plt.title(f'Threshold vs. F1_Score with Best F1_Score = {best_score:.3f} at Best Threshold = {best_thresholds:.3f}',size=18)\n",
        "plt.show()"
      ],
      "metadata": {
        "id": "uUiElulydnSz",
        "colab": {
          "base_uri": "https://localhost:8080/",
          "height": 290
        },
        "outputId": "3bf7c7db-0824-497d-f2c4-cddb30ab4cf9"
      },
      "execution_count": 20,
      "outputs": [
        {
          "output_type": "display_data",
          "data": {
            "text/plain": [
              "<Figure size 1440x360 with 1 Axes>"
            ],
            "image/png": "[encoded data removed]"
          },
          "metadata": {
            "needs_background": "light"
          }
        }
      ]
    },
    {
      "cell_type": "code",
      "source": [
        "# Computing the f1_score for each question\n",
        "print('When we using optimal threshold...')\n",
        "for k in range(18):\n",
        "  m = f1_score(true[k].values, (oof[k].values>best_thresholds).astype('int'), average='macro')\n",
        "  print(f'Q{k}: F1 = ',m)\n",
        "\n",
        "# Computing the f1_score overall\n",
        "m = f1_score(true.values.reshape((-1)), (oof.values.reshape((-1)) >best_thresholds).astype('int'), average='macro')\n",
        "print('Overall F1 ==> ', m)"
      ],
      "metadata": {
        "id": "TiN2wMH0Jzr1",
        "colab": {
          "base_uri": "https://localhost:8080/"
        },
        "outputId": "05729ec0-45c2-4641-b2c2-daef0312d1f8"
      },
      "execution_count": 21,
      "outputs": [
        {
          "output_type": "stream",
          "name": "stdout",
          "text": [
            "When we using optimal threshold...\n",
            "Q0: F1 =  0.5897661971056467\n",
            "Q1: F1 =  0.49448521522681427\n",
            "Q2: F1 =  0.5048907235463347\n",
            "Q3: F1 =  0.6090365903780259\n",
            "Q4: F1 =  0.5706151244065154\n",
            "Q5: F1 =  0.6119948933857032\n",
            "Q6: F1 =  0.5904844392962636\n",
            "Q7: F1 =  0.5185657854128534\n",
            "Q8: F1 =  0.5902359007772132\n",
            "Q9: F1 =  0.5436652967324913\n",
            "Q10: F1 =  0.5664234601092983\n",
            "Q11: F1 =  0.5040251383974664\n",
            "Q12: F1 =  0.4778655324931462\n",
            "Q13: F1 =  0.6022318019760011\n",
            "Q14: F1 =  0.5481533925717125\n",
            "Q15: F1 =  0.5055695156451127\n",
            "Q16: F1 =  0.534166700052737\n",
            "Q17: F1 =  0.4977980888091081\n",
            "Overall F1 ==>  0.6643339332383458\n"
          ]
        }
      ]
    },
    {
      "cell_type": "code",
      "source": [
        "df = pd.read_csv('/content/sample_submission.csv')\n",
        "print(df.shape)\n",
        "df.head()"
      ],
      "metadata": {
        "id": "cZZKe8cYK-z2",
        "colab": {
          "base_uri": "https://localhost:8080/",
          "height": 224
        },
        "outputId": "3a778a79-7787-4378-c026-22b834ba1ec6"
      },
      "execution_count": 22,
      "outputs": [
        {
          "output_type": "stream",
          "name": "stdout",
          "text": [
            "(54, 3)\n"
          ]
        },
        {
          "output_type": "execute_result",
          "data": {
            "text/plain": [
              "             session_id  correct          session_level\n",
              "0  20090109393214576_q1        0  20090109393214576_0-4\n",
              "1  20090312143683264_q1        0  20090312143683264_0-4\n",
              "2  20090312331414616_q1        0  20090312331414616_0-4\n",
              "3  20090109393214576_q2        0  20090109393214576_0-4\n",
              "4  20090312143683264_q2        0  20090312143683264_0-4"
            ],
            "text/html": [
              "\n",
              "  <div id=\"df-03dd70df-4a1c-4666-8076-b4c845194471\">\n",
              "    <div class=\"colab-df-container\">\n",
              "      <div>\n",
              "<style scoped>\n",
              "    .dataframe tbody tr th:only-of-type {\n",
              "        vertical-align: middle;\n",
              "    }\n",
              "\n",
              "    .dataframe tbody tr th {\n",
              "        vertical-align: top;\n",
              "    }\n",
              "\n",
              "    .dataframe thead th {\n",
              "        text-align: right;\n",
              "    }\n",
              "</style>\n",
              "<table border=\"1\" class=\"dataframe\">\n",
              "  <thead>\n",
              "    <tr style=\"text-align: right;\">\n",
              "      <th></th>\n",
              "      <th>session_id</th>\n",
              "      <th>correct</th>\n",
              "      <th>session_level</th>\n",
              "    </tr>\n",
              "  </thead>\n",
              "  <tbody>\n",
              "    <tr>\n",
              "      <th>0</th>\n",
              "      <td>20090109393214576_q1</td>\n",
              "      <td>0</td>\n",
              "      <td>20090109393214576_0-4</td>\n",
              "    </tr>\n",
              "    <tr>\n",
              "      <th>1</th>\n",
              "      <td>20090312143683264_q1</td>\n",
              "      <td>0</td>\n",
              "      <td>20090312143683264_0-4</td>\n",
              "    </tr>\n",
              "    <tr>\n",
              "      <th>2</th>\n",
              "      <td>20090312331414616_q1</td>\n",
              "      <td>0</td>\n",
              "      <td>20090312331414616_0-4</td>\n",
              "    </tr>\n",
              "    <tr>\n",
              "      <th>3</th>\n",
              "      <td>20090109393214576_q2</td>\n",
              "      <td>0</td>\n",
              "      <td>20090109393214576_0-4</td>\n",
              "    </tr>\n",
              "    <tr>\n",
              "      <th>4</th>\n",
              "      <td>20090312143683264_q2</td>\n",
              "      <td>0</td>\n",
              "      <td>20090312143683264_0-4</td>\n",
              "    </tr>\n",
              "  </tbody>\n",
              "</table>\n",
              "</div>\n",
              "      <button class=\"colab-df-convert\" onclick=\"convertToInteractive('df-03dd70df-4a1c-4666-8076-b4c845194471')\"\n",
              "              title=\"Convert this dataframe to an interactive table.\"\n",
              "              style=\"display:none;\">\n",
              "        \n",
              "  <svg xmlns=\"http://www.w3.org/2000/svg\" height=\"24px\"viewBox=\"0 0 24 24\"\n",
              "       width=\"24px\">\n",
              "    <path d=\"M0 0h24v24H0V0z\" fill=\"none\"/>\n",
              "    <path d=\"M18.56 5.44l.94 2.06.94-2.06 2.06-.94-2.06-.94-.94-2.06-.94 2.06-2.06.94zm-11 1L8.5 8.5l.94-2.06 2.06-.94-2.06-.94L8.5 2.5l-.94 2.06-2.06.94zm10 10l.94 2.06.94-2.06 2.06-.94-2.06-.94-.94-2.06-.94 2.06-2.06.94z\"/><path d=\"M17.41 7.96l-1.37-1.37c-.4-.4-.92-.59-1.43-.59-.52 0-1.04.2-1.43.59L10.3 9.45l-7.72 7.72c-.78.78-.78 2.05 0 2.83L4 21.41c.39.39.9.59 1.41.59.51 0 1.02-.2 1.41-.59l7.78-7.78 2.81-2.81c.8-.78.8-2.07 0-2.86zM5.41 20L4 18.59l7.72-7.72 1.47 1.35L5.41 20z\"/>\n",
              "  </svg>\n",
              "      </button>\n",
              "      \n",
              "  <style>\n",
              "    .colab-df-container {\n",
              "      display:flex;\n",
              "      flex-wrap:wrap;\n",
              "      gap: 12px;\n",
              "    }\n",
              "\n",
              "    .colab-df-convert {\n",
              "      background-color: #E8F0FE;\n",
              "      border: none;\n",
              "      border-radius: 50%;\n",
              "      cursor: pointer;\n",
              "      display: none;\n",
              "      fill: #1967D2;\n",
              "      height: 32px;\n",
              "      padding: 0 0 0 0;\n",
              "      width: 32px;\n",
              "    }\n",
              "\n",
              "    .colab-df-convert:hover {\n",
              "      background-color: #E2EBFA;\n",
              "      box-shadow: 0px 1px 2px rgba(60, 64, 67, 0.3), 0px 1px 3px 1px rgba(60, 64, 67, 0.15);\n",
              "      fill: #174EA6;\n",
              "    }\n",
              "\n",
              "    [theme=dark] .colab-df-convert {\n",
              "      background-color: #3B4455;\n",
              "      fill: #D2E3FC;\n",
              "    }\n",
              "\n",
              "    [theme=dark] .colab-df-convert:hover {\n",
              "      background-color: #434B5C;\n",
              "      box-shadow: 0px 1px 3px 1px rgba(0, 0, 0, 0.15);\n",
              "      filter: drop-shadow(0px 1px 2px rgba(0, 0, 0, 0.3));\n",
              "      fill: #FFFFFF;\n",
              "    }\n",
              "  </style>\n",
              "\n",
              "      <script>\n",
              "        const buttonEl =\n",
              "          document.querySelector('#df-03dd70df-4a1c-4666-8076-b4c845194471 button.colab-df-convert');\n",
              "        buttonEl.style.display =\n",
              "          google.colab.kernel.accessAllowed ? 'block' : 'none';\n",
              "\n",
              "        async function convertToInteractive(key) {\n",
              "          const element = document.querySelector('#df-03dd70df-4a1c-4666-8076-b4c845194471');\n",
              "          const dataTable =\n",
              "            await google.colab.kernel.invokeFunction('convertToInteractive',\n",
              "                                                     [key], {});\n",
              "          if (!dataTable) return;\n",
              "\n",
              "          const docLinkHtml = 'Like what you see? Visit the ' +\n",
              "            '<a target=\"_blank\" href=https://colab.research.google.com/notebooks/data_table.ipynb>data table notebook</a>'\n",
              "            + ' to learn more about interactive tables.';\n",
              "          element.innerHTML = '';\n",
              "          dataTable['output_type'] = 'display_data';\n",
              "          await google.colab.output.renderOutput(dataTable, element);\n",
              "          const docLink = document.createElement('div');\n",
              "          docLink.innerHTML = docLinkHtml;\n",
              "          element.appendChild(docLink);\n",
              "        }\n",
              "      </script>\n",
              "    </div>\n",
              "  </div>\n",
              "  "
            ]
          },
          "metadata": {},
          "execution_count": 22
        }
      ]
    },
    {
      "cell_type": "code",
      "source": [
        "print(df.correct.mean())"
      ],
      "metadata": {
        "id": "6YKT4Gq0LJj4",
        "colab": {
          "base_uri": "https://localhost:8080/"
        },
        "outputId": "f00b9fa6-0707-410c-a704-bd9f65e22313"
      },
      "execution_count": 23,
      "outputs": [
        {
          "output_type": "stream",
          "name": "stdout",
          "text": [
            "0.0\n"
          ]
        }
      ]
    },
    {
      "cell_type": "code",
      "source": [],
      "metadata": {
        "id": "tkvcOwt-LPeO"
      },
      "execution_count": 23,
      "outputs": []
    }
  ]
}